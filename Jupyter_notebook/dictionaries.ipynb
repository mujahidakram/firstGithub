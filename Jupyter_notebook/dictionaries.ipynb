{
 "cells": [
  {
   "cell_type": "code",
   "execution_count": 5,
   "id": "5bc9e01c",
   "metadata": {},
   "outputs": [
    {
     "data": {
      "text/plain": [
       "(70, 80, 90)"
      ]
     },
     "execution_count": 5,
     "metadata": {},
     "output_type": "execute_result"
    }
   ],
   "source": [
    "tup1= (70, 80, 90)\n",
    "tup1"
   ]
  },
  {
   "cell_type": "code",
   "execution_count": 12,
   "id": "49f164ac",
   "metadata": {
    "scrolled": true
   },
   "outputs": [
    {
     "data": {
      "text/plain": [
       "['samosa', 'pakora', 'ladla', 'badla']"
      ]
     },
     "execution_count": 12,
     "metadata": {},
     "output_type": "execute_result"
    }
   ],
   "source": [
    "list1= [\"samosa\", \"pakora\", \"ladla\", \"badla\"]\n",
    "\n",
    "list1"
   ]
  },
  {
   "cell_type": "code",
   "execution_count": 23,
   "id": "0ee70b03",
   "metadata": {},
   "outputs": [],
   "source": [
    "list1 = [\"samosa\", \"pakora\", \"ladla\", \"badla\"]"
   ]
  },
  {
   "cell_type": "code",
   "execution_count": 32,
   "id": "b903f0ad",
   "metadata": {},
   "outputs": [
    {
     "data": {
      "text/plain": [
       "['badla', 'cricket', 'cricket', 'ladla', 'pakora', 'samosa', 'cricket']"
      ]
     },
     "execution_count": 32,
     "metadata": {},
     "output_type": "execute_result"
    }
   ],
   "source": [
    "list1.append (\"cricket\")\n",
    "list1"
   ]
  },
  {
   "cell_type": "code",
   "execution_count": 28,
   "id": "28f87276",
   "metadata": {},
   "outputs": [
    {
     "data": {
      "text/plain": [
       "['samosa', 'pakora', 'ladla', 'badla', 'cricket', 'cricket']"
      ]
     },
     "execution_count": 28,
     "metadata": {},
     "output_type": "execute_result"
    }
   ],
   "source": [
    "list1.copy()"
   ]
  },
  {
   "cell_type": "code",
   "execution_count": 33,
   "id": "0501b8d8",
   "metadata": {},
   "outputs": [
    {
     "data": {
      "text/plain": [
       "['badla', 'cricket', 'cricket', 'cricket', 'ladla', 'pakora', 'samosa']"
      ]
     },
     "execution_count": 33,
     "metadata": {},
     "output_type": "execute_result"
    }
   ],
   "source": [
    "list1.sort()\n",
    "list1"
   ]
  },
  {
   "cell_type": "code",
   "execution_count": 38,
   "id": "64bef907",
   "metadata": {},
   "outputs": [
    {
     "data": {
      "text/plain": [
       "['badla', 'ladla', 'pakora', 'samosa']"
      ]
     },
     "execution_count": 38,
     "metadata": {},
     "output_type": "execute_result"
    }
   ],
   "source": [
    "list1.remove(\"cricket\")\n",
    "list1"
   ]
  },
  {
   "cell_type": "code",
   "execution_count": 39,
   "id": "d76afde9",
   "metadata": {},
   "outputs": [
    {
     "data": {
      "text/plain": [
       "['samosa', 'pakora', 'ladla', 'badla']"
      ]
     },
     "execution_count": 39,
     "metadata": {},
     "output_type": "execute_result"
    }
   ],
   "source": [
    "list1.reverse()\n",
    "list1"
   ]
  },
  {
   "cell_type": "code",
   "execution_count": 42,
   "id": "6726c1e6",
   "metadata": {},
   "outputs": [
    {
     "data": {
      "text/plain": [
       "['samosa', 'pakora', 'ladla', 'Cricket', 'Cricket', 'badla']"
      ]
     },
     "execution_count": 42,
     "metadata": {},
     "output_type": "execute_result"
    }
   ],
   "source": [
    "list1.insert(3, \"Cricket\")\n",
    "list1"
   ]
  },
  {
   "cell_type": "code",
   "execution_count": 43,
   "id": "67ddf9ad",
   "metadata": {},
   "outputs": [
    {
     "data": {
      "text/plain": [
       "['mushahid', 'Mujahid', 'Mubashar', 'Akram']"
      ]
     },
     "execution_count": 43,
     "metadata": {},
     "output_type": "execute_result"
    }
   ],
   "source": [
    "list2 = [\"mushahid\", \"Mujahid\", \"Mubashar\", \"Akram\"]\n",
    "list2"
   ]
  },
  {
   "cell_type": "code",
   "execution_count": 44,
   "id": "0fce0dbe",
   "metadata": {},
   "outputs": [
    {
     "data": {
      "text/plain": [
       "['samosa',\n",
       " 'pakora',\n",
       " 'ladla',\n",
       " 'Cricket',\n",
       " 'Cricket',\n",
       " 'badla',\n",
       " 'mushahid',\n",
       " 'Mujahid',\n",
       " 'Mubashar',\n",
       " 'Akram']"
      ]
     },
     "execution_count": 44,
     "metadata": {},
     "output_type": "execute_result"
    }
   ],
   "source": [
    "list1.extend(list2)\n",
    "list1"
   ]
  },
  {
   "cell_type": "code",
   "execution_count": 48,
   "id": "646dd69b",
   "metadata": {},
   "outputs": [
    {
     "data": {
      "text/plain": [
       "10"
      ]
     },
     "execution_count": 48,
     "metadata": {},
     "output_type": "execute_result"
    }
   ],
   "source": [
    "len(list1)"
   ]
  },
  {
   "cell_type": "code",
   "execution_count": null,
   "id": "8ac743c1",
   "metadata": {},
   "outputs": [],
   "source": []
  }
 ],
 "metadata": {
  "kernelspec": {
   "display_name": "Python 3 (ipykernel)",
   "language": "python",
   "name": "python3"
  },
  "language_info": {
   "codemirror_mode": {
    "name": "ipython",
    "version": 3
   },
   "file_extension": ".py",
   "mimetype": "text/x-python",
   "name": "python",
   "nbconvert_exporter": "python",
   "pygments_lexer": "ipython3",
   "version": "3.9.7"
  }
 },
 "nbformat": 4,
 "nbformat_minor": 5
}
